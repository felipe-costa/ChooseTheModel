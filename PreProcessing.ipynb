{
 "cells": [
  {
   "cell_type": "code",
   "execution_count": 1,
   "metadata": {
    "collapsed": true
   },
   "outputs": [],
   "source": [
    "import numpy as np\n",
    "import pandas as pd\n",
    "import datetime"
   ]
  },
  {
   "cell_type": "code",
   "execution_count": 2,
   "metadata": {
    "collapsed": true
   },
   "outputs": [],
   "source": [
    "#Lendo o dataset\n",
    "trip_dataset = pd.read_csv('Datasets/train.csv')"
   ]
  },
  {
   "cell_type": "code",
   "execution_count": 3,
   "metadata": {},
   "outputs": [
    {
     "data": {
      "text/html": [
       "<div>\n",
       "<style>\n",
       "    .dataframe thead tr:only-child th {\n",
       "        text-align: right;\n",
       "    }\n",
       "\n",
       "    .dataframe thead th {\n",
       "        text-align: left;\n",
       "    }\n",
       "\n",
       "    .dataframe tbody tr th {\n",
       "        vertical-align: top;\n",
       "    }\n",
       "</style>\n",
       "<table border=\"1\" class=\"dataframe\">\n",
       "  <thead>\n",
       "    <tr style=\"text-align: right;\">\n",
       "      <th></th>\n",
       "      <th>pickup_datetime</th>\n",
       "      <th>dropoff_datetime</th>\n",
       "      <th>pickup_longitude</th>\n",
       "      <th>pickup_latitude</th>\n",
       "      <th>dropoff_longitude</th>\n",
       "      <th>dropoff_latitude</th>\n",
       "    </tr>\n",
       "  </thead>\n",
       "  <tbody>\n",
       "    <tr>\n",
       "      <th>0</th>\n",
       "      <td>2016-03-14 17:24:55</td>\n",
       "      <td>2016-03-14 17:32:30</td>\n",
       "      <td>-73.982155</td>\n",
       "      <td>40.767937</td>\n",
       "      <td>-73.964630</td>\n",
       "      <td>40.765602</td>\n",
       "    </tr>\n",
       "    <tr>\n",
       "      <th>1</th>\n",
       "      <td>2016-06-12 00:43:35</td>\n",
       "      <td>2016-06-12 00:54:38</td>\n",
       "      <td>-73.980415</td>\n",
       "      <td>40.738564</td>\n",
       "      <td>-73.999481</td>\n",
       "      <td>40.731152</td>\n",
       "    </tr>\n",
       "    <tr>\n",
       "      <th>2</th>\n",
       "      <td>2016-01-19 11:35:24</td>\n",
       "      <td>2016-01-19 12:10:48</td>\n",
       "      <td>-73.979027</td>\n",
       "      <td>40.763939</td>\n",
       "      <td>-74.005333</td>\n",
       "      <td>40.710087</td>\n",
       "    </tr>\n",
       "    <tr>\n",
       "      <th>3</th>\n",
       "      <td>2016-04-06 19:32:31</td>\n",
       "      <td>2016-04-06 19:39:40</td>\n",
       "      <td>-74.010040</td>\n",
       "      <td>40.719971</td>\n",
       "      <td>-74.012268</td>\n",
       "      <td>40.706718</td>\n",
       "    </tr>\n",
       "    <tr>\n",
       "      <th>4</th>\n",
       "      <td>2016-03-26 13:30:55</td>\n",
       "      <td>2016-03-26 13:38:10</td>\n",
       "      <td>-73.973053</td>\n",
       "      <td>40.793209</td>\n",
       "      <td>-73.972923</td>\n",
       "      <td>40.782520</td>\n",
       "    </tr>\n",
       "  </tbody>\n",
       "</table>\n",
       "</div>"
      ],
      "text/plain": [
       "       pickup_datetime     dropoff_datetime  pickup_longitude  \\\n",
       "0  2016-03-14 17:24:55  2016-03-14 17:32:30        -73.982155   \n",
       "1  2016-06-12 00:43:35  2016-06-12 00:54:38        -73.980415   \n",
       "2  2016-01-19 11:35:24  2016-01-19 12:10:48        -73.979027   \n",
       "3  2016-04-06 19:32:31  2016-04-06 19:39:40        -74.010040   \n",
       "4  2016-03-26 13:30:55  2016-03-26 13:38:10        -73.973053   \n",
       "\n",
       "   pickup_latitude  dropoff_longitude  dropoff_latitude  \n",
       "0        40.767937         -73.964630         40.765602  \n",
       "1        40.738564         -73.999481         40.731152  \n",
       "2        40.763939         -74.005333         40.710087  \n",
       "3        40.719971         -74.012268         40.706718  \n",
       "4        40.793209         -73.972923         40.782520  "
      ]
     },
     "execution_count": 3,
     "metadata": {},
     "output_type": "execute_result"
    }
   ],
   "source": [
    "trip_dataset[['pickup_datetime','dropoff_datetime','pickup_longitude','pickup_latitude','dropoff_longitude','dropoff_latitude']].head()"
   ]
  },
  {
   "cell_type": "code",
   "execution_count": 70,
   "metadata": {
    "collapsed": true
   },
   "outputs": [],
   "source": [
    "trip_dataset['dropoff_datetime'] = trip_dataset['dropoff_datetime'].apply(lambda x: pd.to_datetime(x))\n",
    "trip_dataset['pickup_datetime'] = trip_dataset['pickup_datetime'].apply(lambda x: pd.to_datetime(x))"
   ]
  },
  {
   "cell_type": "code",
   "execution_count": 71,
   "metadata": {
    "collapsed": true
   },
   "outputs": [],
   "source": [
    "trip_dataset['diff'] = trip_dataset['dropoff_datetime'] - trip_dataset['pickup_datetime'] "
   ]
  },
  {
   "cell_type": "code",
   "execution_count": 72,
   "metadata": {
    "collapsed": true
   },
   "outputs": [],
   "source": [
    "def haversine_np(lon1, lat1, lon2, lat2):\n",
    "    \"\"\"\n",
    "    Calculate the great circle distance between two points\n",
    "    on the earth (specified in decimal degrees)\n",
    "\n",
    "    All args must be of equal length.    \n",
    "\n",
    "    \"\"\"\n",
    "    lon1, lat1, lon2, lat2 = map(np.radians, [lon1, lat1, lon2, lat2])\n",
    "\n",
    "    dlon = lon2 - lon1\n",
    "    dlat = lat2 - lat1\n",
    "\n",
    "    a = np.sin(dlat/2.0)**2 + np.cos(lat1) * np.cos(lat2) * np.sin(dlon/2.0)**2\n",
    "\n",
    "    c = 2 * np.arcsin(np.sqrt(a))\n",
    "    km = 6367 * c\n",
    "    return km"
   ]
  },
  {
   "cell_type": "code",
   "execution_count": 73,
   "metadata": {
    "collapsed": true
   },
   "outputs": [],
   "source": [
    "trip_dataset['distance'] = trip_dataset.apply(lambda row: haversine_np(row['pickup_longitude'],row['pickup_latitude'],row['dropoff_longitude'],row['dropoff_latitude']),axis=1 )"
   ]
  },
  {
   "cell_type": "code",
   "execution_count": 74,
   "metadata": {},
   "outputs": [
    {
     "data": {
      "text/html": [
       "<div>\n",
       "<style>\n",
       "    .dataframe thead tr:only-child th {\n",
       "        text-align: right;\n",
       "    }\n",
       "\n",
       "    .dataframe thead th {\n",
       "        text-align: left;\n",
       "    }\n",
       "\n",
       "    .dataframe tbody tr th {\n",
       "        vertical-align: top;\n",
       "    }\n",
       "</style>\n",
       "<table border=\"1\" class=\"dataframe\">\n",
       "  <thead>\n",
       "    <tr style=\"text-align: right;\">\n",
       "      <th></th>\n",
       "      <th>pickup_datetime</th>\n",
       "      <th>dropoff_datetime</th>\n",
       "      <th>trip_duration</th>\n",
       "      <th>diff</th>\n",
       "      <th>distance</th>\n",
       "      <th>pickup_longitude</th>\n",
       "      <th>pickup_latitude</th>\n",
       "      <th>dropoff_longitude</th>\n",
       "      <th>dropoff_latitude</th>\n",
       "    </tr>\n",
       "  </thead>\n",
       "  <tbody>\n",
       "    <tr>\n",
       "      <th>978383</th>\n",
       "      <td>2016-02-13 22:46:52</td>\n",
       "      <td>2016-03-25 18:18:14</td>\n",
       "      <td>3526282</td>\n",
       "      <td>40 days 19:31:22</td>\n",
       "      <td>19.888167</td>\n",
       "      <td>-73.783905</td>\n",
       "      <td>40.648632</td>\n",
       "      <td>-73.978271</td>\n",
       "      <td>40.750202</td>\n",
       "    </tr>\n",
       "    <tr>\n",
       "      <th>924150</th>\n",
       "      <td>2016-01-05 06:14:15</td>\n",
       "      <td>2016-01-31 01:01:07</td>\n",
       "      <td>2227612</td>\n",
       "      <td>25 days 18:46:52</td>\n",
       "      <td>1.634101</td>\n",
       "      <td>-73.983788</td>\n",
       "      <td>40.742325</td>\n",
       "      <td>-73.985489</td>\n",
       "      <td>40.727676</td>\n",
       "    </tr>\n",
       "    <tr>\n",
       "      <th>680594</th>\n",
       "      <td>2016-02-13 22:38:00</td>\n",
       "      <td>2016-03-08 15:57:38</td>\n",
       "      <td>2049578</td>\n",
       "      <td>23 days 17:19:38</td>\n",
       "      <td>5.978731</td>\n",
       "      <td>-73.921677</td>\n",
       "      <td>40.735252</td>\n",
       "      <td>-73.984749</td>\n",
       "      <td>40.759979</td>\n",
       "    </tr>\n",
       "    <tr>\n",
       "      <th>355003</th>\n",
       "      <td>2016-01-05 00:19:42</td>\n",
       "      <td>2016-01-27 11:08:38</td>\n",
       "      <td>1939736</td>\n",
       "      <td>22 days 10:48:56</td>\n",
       "      <td>20.136014</td>\n",
       "      <td>-73.789650</td>\n",
       "      <td>40.643559</td>\n",
       "      <td>-73.956810</td>\n",
       "      <td>40.773087</td>\n",
       "    </tr>\n",
       "    <tr>\n",
       "      <th>1234291</th>\n",
       "      <td>2016-02-15 23:18:06</td>\n",
       "      <td>2016-02-16 23:17:58</td>\n",
       "      <td>86392</td>\n",
       "      <td>0 days 23:59:52</td>\n",
       "      <td>20.629763</td>\n",
       "      <td>-73.794525</td>\n",
       "      <td>40.644825</td>\n",
       "      <td>-73.991051</td>\n",
       "      <td>40.755573</td>\n",
       "    </tr>\n",
       "  </tbody>\n",
       "</table>\n",
       "</div>"
      ],
      "text/plain": [
       "            pickup_datetime    dropoff_datetime  trip_duration  \\\n",
       "978383  2016-02-13 22:46:52 2016-03-25 18:18:14        3526282   \n",
       "924150  2016-01-05 06:14:15 2016-01-31 01:01:07        2227612   \n",
       "680594  2016-02-13 22:38:00 2016-03-08 15:57:38        2049578   \n",
       "355003  2016-01-05 00:19:42 2016-01-27 11:08:38        1939736   \n",
       "1234291 2016-02-15 23:18:06 2016-02-16 23:17:58          86392   \n",
       "\n",
       "                    diff   distance  pickup_longitude  pickup_latitude  \\\n",
       "978383  40 days 19:31:22  19.888167        -73.783905        40.648632   \n",
       "924150  25 days 18:46:52   1.634101        -73.983788        40.742325   \n",
       "680594  23 days 17:19:38   5.978731        -73.921677        40.735252   \n",
       "355003  22 days 10:48:56  20.136014        -73.789650        40.643559   \n",
       "1234291  0 days 23:59:52  20.629763        -73.794525        40.644825   \n",
       "\n",
       "         dropoff_longitude  dropoff_latitude  \n",
       "978383          -73.978271         40.750202  \n",
       "924150          -73.985489         40.727676  \n",
       "680594          -73.984749         40.759979  \n",
       "355003          -73.956810         40.773087  \n",
       "1234291         -73.991051         40.755573  "
      ]
     },
     "execution_count": 74,
     "metadata": {},
     "output_type": "execute_result"
    }
   ],
   "source": [
    "df = trip_dataset.sort_values(by='trip_duration',ascending=False)\n",
    "df[['pickup_datetime','dropoff_datetime','trip_duration','diff','distance','pickup_longitude','pickup_latitude','dropoff_longitude','dropoff_latitude']].head()"
   ]
  },
  {
   "cell_type": "code",
   "execution_count": 75,
   "metadata": {
    "collapsed": true
   },
   "outputs": [],
   "source": [
    "trip_dataset['diff_distance'] = trip_dataset['trip_duration'] - (trip_dataset['distance'] * 100) \n",
    "trip_dataset = trip_dataset[trip_dataset['diff_distance'] < 10]"
   ]
  },
  {
   "cell_type": "code",
   "execution_count": 76,
   "metadata": {},
   "outputs": [
    {
     "data": {
      "text/plain": [
       "(36475, 14)"
      ]
     },
     "execution_count": 76,
     "metadata": {},
     "output_type": "execute_result"
    }
   ],
   "source": [
    "trip_dataset.shape"
   ]
  },
  {
   "cell_type": "code",
   "execution_count": 80,
   "metadata": {},
   "outputs": [
    {
     "data": {
      "text/html": [
       "<div>\n",
       "<style>\n",
       "    .dataframe thead tr:only-child th {\n",
       "        text-align: right;\n",
       "    }\n",
       "\n",
       "    .dataframe thead th {\n",
       "        text-align: left;\n",
       "    }\n",
       "\n",
       "    .dataframe tbody tr th {\n",
       "        vertical-align: top;\n",
       "    }\n",
       "</style>\n",
       "<table border=\"1\" class=\"dataframe\">\n",
       "  <thead>\n",
       "    <tr style=\"text-align: right;\">\n",
       "      <th></th>\n",
       "      <th>pickup_datetime</th>\n",
       "      <th>dropoff_datetime</th>\n",
       "      <th>trip_duration</th>\n",
       "      <th>diff</th>\n",
       "      <th>diff_distance</th>\n",
       "      <th>distance</th>\n",
       "      <th>pickup_longitude</th>\n",
       "      <th>pickup_latitude</th>\n",
       "      <th>dropoff_longitude</th>\n",
       "      <th>dropoff_latitude</th>\n",
       "    </tr>\n",
       "  </thead>\n",
       "  <tbody>\n",
       "    <tr>\n",
       "      <th>1301396</th>\n",
       "      <td>2016-03-26 22:01:54</td>\n",
       "      <td>2016-03-27 00:47:16</td>\n",
       "      <td>9922</td>\n",
       "      <td>02:45:22</td>\n",
       "      <td>-9206.262095</td>\n",
       "      <td>191.282621</td>\n",
       "      <td>-73.981491</td>\n",
       "      <td>40.773251</td>\n",
       "      <td>-76.135719</td>\n",
       "      <td>40.243626</td>\n",
       "    </tr>\n",
       "    <tr>\n",
       "      <th>14502</th>\n",
       "      <td>2016-04-15 22:35:08</td>\n",
       "      <td>2016-04-16 00:34:21</td>\n",
       "      <td>7153</td>\n",
       "      <td>01:59:13</td>\n",
       "      <td>-4489.328242</td>\n",
       "      <td>116.423282</td>\n",
       "      <td>-73.781792</td>\n",
       "      <td>40.644718</td>\n",
       "      <td>-72.711395</td>\n",
       "      <td>41.311520</td>\n",
       "    </tr>\n",
       "    <tr>\n",
       "      <th>837898</th>\n",
       "      <td>2016-05-17 20:29:57</td>\n",
       "      <td>2016-05-17 22:27:41</td>\n",
       "      <td>7064</td>\n",
       "      <td>01:57:44</td>\n",
       "      <td>-927.319360</td>\n",
       "      <td>79.913194</td>\n",
       "      <td>-73.976891</td>\n",
       "      <td>40.751888</td>\n",
       "      <td>-73.628647</td>\n",
       "      <td>41.421406</td>\n",
       "    </tr>\n",
       "    <tr>\n",
       "      <th>246942</th>\n",
       "      <td>2016-02-03 08:35:17</td>\n",
       "      <td>2016-02-03 10:20:33</td>\n",
       "      <td>6316</td>\n",
       "      <td>01:45:16</td>\n",
       "      <td>-1987.660006</td>\n",
       "      <td>83.036600</td>\n",
       "      <td>-73.959846</td>\n",
       "      <td>40.782383</td>\n",
       "      <td>-74.775429</td>\n",
       "      <td>40.364536</td>\n",
       "    </tr>\n",
       "    <tr>\n",
       "      <th>1085898</th>\n",
       "      <td>2016-01-11 17:22:12</td>\n",
       "      <td>2016-01-11 19:06:21</td>\n",
       "      <td>6249</td>\n",
       "      <td>01:44:09</td>\n",
       "      <td>-2813.067823</td>\n",
       "      <td>90.620678</td>\n",
       "      <td>-73.789886</td>\n",
       "      <td>40.643768</td>\n",
       "      <td>-73.047379</td>\n",
       "      <td>41.235737</td>\n",
       "    </tr>\n",
       "  </tbody>\n",
       "</table>\n",
       "</div>"
      ],
      "text/plain": [
       "            pickup_datetime    dropoff_datetime  trip_duration     diff  \\\n",
       "1301396 2016-03-26 22:01:54 2016-03-27 00:47:16           9922 02:45:22   \n",
       "14502   2016-04-15 22:35:08 2016-04-16 00:34:21           7153 01:59:13   \n",
       "837898  2016-05-17 20:29:57 2016-05-17 22:27:41           7064 01:57:44   \n",
       "246942  2016-02-03 08:35:17 2016-02-03 10:20:33           6316 01:45:16   \n",
       "1085898 2016-01-11 17:22:12 2016-01-11 19:06:21           6249 01:44:09   \n",
       "\n",
       "         diff_distance    distance  pickup_longitude  pickup_latitude  \\\n",
       "1301396   -9206.262095  191.282621        -73.981491        40.773251   \n",
       "14502     -4489.328242  116.423282        -73.781792        40.644718   \n",
       "837898     -927.319360   79.913194        -73.976891        40.751888   \n",
       "246942    -1987.660006   83.036600        -73.959846        40.782383   \n",
       "1085898   -2813.067823   90.620678        -73.789886        40.643768   \n",
       "\n",
       "         dropoff_longitude  dropoff_latitude  \n",
       "1301396         -76.135719         40.243626  \n",
       "14502           -72.711395         41.311520  \n",
       "837898          -73.628647         41.421406  \n",
       "246942          -74.775429         40.364536  \n",
       "1085898         -73.047379         41.235737  "
      ]
     },
     "execution_count": 80,
     "metadata": {},
     "output_type": "execute_result"
    }
   ],
   "source": [
    "df = trip_dataset.sort_values(by='trip_duration',ascending=False)\n",
    "df[['pickup_datetime','dropoff_datetime','trip_duration','diff','diff_distance','distance','pickup_longitude','pickup_latitude','dropoff_longitude','dropoff_latitude']].head()"
   ]
  },
  {
   "cell_type": "code",
   "execution_count": 81,
   "metadata": {},
   "outputs": [
    {
     "data": {
      "text/plain": [
       "(36475, 14)"
      ]
     },
     "execution_count": 81,
     "metadata": {},
     "output_type": "execute_result"
    }
   ],
   "source": [
    "trip_dataset.shape"
   ]
  },
  {
   "cell_type": "code",
   "execution_count": 82,
   "metadata": {
    "collapsed": true
   },
   "outputs": [],
   "source": [
    "w_data = pd.read_csv('Datasets/weatherdata.csv')\n",
    "w_data['timestamp'] = pd.to_datetime(w_data['timestamp'])"
   ]
  },
  {
   "cell_type": "code",
   "execution_count": 94,
   "metadata": {},
   "outputs": [
    {
     "data": {
      "text/html": [
       "<div>\n",
       "<style>\n",
       "    .dataframe thead tr:only-child th {\n",
       "        text-align: right;\n",
       "    }\n",
       "\n",
       "    .dataframe thead th {\n",
       "        text-align: left;\n",
       "    }\n",
       "\n",
       "    .dataframe tbody tr th {\n",
       "        vertical-align: top;\n",
       "    }\n",
       "</style>\n",
       "<table border=\"1\" class=\"dataframe\">\n",
       "  <thead>\n",
       "    <tr style=\"text-align: right;\">\n",
       "      <th></th>\n",
       "      <th>timestamp</th>\n",
       "      <th>temp</th>\n",
       "      <th>windspeed</th>\n",
       "      <th>humidity</th>\n",
       "      <th>precip</th>\n",
       "      <th>pressure</th>\n",
       "      <th>conditions</th>\n",
       "      <th>dailyprecip</th>\n",
       "      <th>dailysnow</th>\n",
       "      <th>fog</th>\n",
       "      <th>rain</th>\n",
       "      <th>snow</th>\n",
       "    </tr>\n",
       "  </thead>\n",
       "  <tbody>\n",
       "    <tr>\n",
       "      <th>0</th>\n",
       "      <td>2016-01-01 00:51:00</td>\n",
       "      <td>42.1</td>\n",
       "      <td>4.6</td>\n",
       "      <td>51.0</td>\n",
       "      <td>0.0</td>\n",
       "      <td>30.06</td>\n",
       "      <td>Overcast</td>\n",
       "      <td>0.00</td>\n",
       "      <td>0.00</td>\n",
       "      <td>0</td>\n",
       "      <td>0</td>\n",
       "      <td>0</td>\n",
       "    </tr>\n",
       "    <tr>\n",
       "      <th>1</th>\n",
       "      <td>2016-01-01 01:51:00</td>\n",
       "      <td>41.0</td>\n",
       "      <td>3.5</td>\n",
       "      <td>53.0</td>\n",
       "      <td>0.0</td>\n",
       "      <td>30.06</td>\n",
       "      <td>Overcast</td>\n",
       "      <td>0.00</td>\n",
       "      <td>0.00</td>\n",
       "      <td>0</td>\n",
       "      <td>0</td>\n",
       "      <td>0</td>\n",
       "    </tr>\n",
       "    <tr>\n",
       "      <th>2</th>\n",
       "      <td>2016-01-01 02:51:00</td>\n",
       "      <td>41.0</td>\n",
       "      <td>4.6</td>\n",
       "      <td>55.0</td>\n",
       "      <td>0.0</td>\n",
       "      <td>30.06</td>\n",
       "      <td>Overcast</td>\n",
       "      <td>0.00</td>\n",
       "      <td>0.00</td>\n",
       "      <td>0</td>\n",
       "      <td>0</td>\n",
       "      <td>0</td>\n",
       "    </tr>\n",
       "    <tr>\n",
       "      <th>3</th>\n",
       "      <td>2016-01-01 03:51:00</td>\n",
       "      <td>41.0</td>\n",
       "      <td>9.2</td>\n",
       "      <td>55.0</td>\n",
       "      <td>0.0</td>\n",
       "      <td>30.06</td>\n",
       "      <td>Overcast</td>\n",
       "      <td>0.00</td>\n",
       "      <td>0.00</td>\n",
       "      <td>0</td>\n",
       "      <td>0</td>\n",
       "      <td>0</td>\n",
       "    </tr>\n",
       "    <tr>\n",
       "      <th>4</th>\n",
       "      <td>2016-01-01 04:51:00</td>\n",
       "      <td>39.9</td>\n",
       "      <td>10.4</td>\n",
       "      <td>58.0</td>\n",
       "      <td>0.0</td>\n",
       "      <td>30.04</td>\n",
       "      <td>Overcast</td>\n",
       "      <td>0.00</td>\n",
       "      <td>0.00</td>\n",
       "      <td>0</td>\n",
       "      <td>0</td>\n",
       "      <td>0</td>\n",
       "    </tr>\n",
       "  </tbody>\n",
       "</table>\n",
       "</div>"
      ],
      "text/plain": [
       "            timestamp  temp  windspeed  humidity  precip  pressure conditions  \\\n",
       "0 2016-01-01 00:51:00  42.1        4.6      51.0     0.0     30.06   Overcast   \n",
       "1 2016-01-01 01:51:00  41.0        3.5      53.0     0.0     30.06   Overcast   \n",
       "2 2016-01-01 02:51:00  41.0        4.6      55.0     0.0     30.06   Overcast   \n",
       "3 2016-01-01 03:51:00  41.0        9.2      55.0     0.0     30.06   Overcast   \n",
       "4 2016-01-01 04:51:00  39.9       10.4      58.0     0.0     30.04   Overcast   \n",
       "\n",
       "  dailyprecip dailysnow  fog  rain  snow  \n",
       "0        0.00      0.00    0     0     0  \n",
       "1        0.00      0.00    0     0     0  \n",
       "2        0.00      0.00    0     0     0  \n",
       "3        0.00      0.00    0     0     0  \n",
       "4        0.00      0.00    0     0     0  "
      ]
     },
     "execution_count": 94,
     "metadata": {},
     "output_type": "execute_result"
    }
   ],
   "source": [
    "w_data.head()"
   ]
  },
  {
   "cell_type": "code",
   "execution_count": 84,
   "metadata": {
    "collapsed": true
   },
   "outputs": [],
   "source": [
    "trip_dataset['pickup_datetime_int'] = trip_dataset['pickup_datetime'].astype('int64')//1e9\n",
    "trip_dataset['dropoff_datetime_int'] = trip_dataset['dropoff_datetime'].astype('int64')//1e9"
   ]
  },
  {
   "cell_type": "code",
   "execution_count": 85,
   "metadata": {
    "collapsed": true
   },
   "outputs": [],
   "source": [
    "min_data  = w_data['timestamp'].min()\n",
    "max_data = w_data['timestamp'].max()\n",
    "trip_dataset = trip_dataset[(trip_dataset['pickup_datetime'] >= min_data) & (trip_dataset['pickup_datetime'] <= max_data)]"
   ]
  },
  {
   "cell_type": "code",
   "execution_count": 86,
   "metadata": {
    "collapsed": true
   },
   "outputs": [],
   "source": [
    "trip_dataset = trip_dataset.sort_values('pickup_datetime')"
   ]
  },
  {
   "cell_type": "code",
   "execution_count": 87,
   "metadata": {
    "collapsed": true
   },
   "outputs": [],
   "source": [
    "trip_dataset['rain'] = trip_dataset.apply(lambda row: len(w_data[((w_data['timestamp'] >= row['pickup_datetime']) & (w_data['timestamp'] <= row['dropoff_datetime']))]['rain']) > 0 ,axis=1)\n",
    "trip_dataset['temp'] = trip_dataset.apply(lambda row: np.mean(w_data[((w_data['timestamp'] >= row['pickup_datetime']) & (w_data['timestamp'] <= row['dropoff_datetime']))]['temp']),axis=1)"
   ]
  },
  {
   "cell_type": "code",
   "execution_count": 88,
   "metadata": {
    "collapsed": true
   },
   "outputs": [],
   "source": [
    "trip_dataset['rain'] = trip_dataset['rain'].apply(lambda x: 1 if x else 0)\n",
    "trip_dataset['temp'] = trip_dataset['temp'].apply(lambda x: 0 if x == 0 else np.log(x))"
   ]
  },
  {
   "cell_type": "code",
   "execution_count": 89,
   "metadata": {
    "collapsed": true
   },
   "outputs": [],
   "source": [
    "trip_dataset['windspeed'] = trip_dataset.apply(lambda row: np.mean(w_data[((w_data['timestamp'] >= row['pickup_datetime']) & (w_data['timestamp'] <= row['dropoff_datetime']))]['windspeed']),axis=1)"
   ]
  },
  {
   "cell_type": "code",
   "execution_count": 90,
   "metadata": {
    "collapsed": true
   },
   "outputs": [],
   "source": [
    "trip_dataset['snow'] = trip_dataset.apply(lambda row: np.mean(w_data[((w_data['timestamp'] >= row['pickup_datetime']) & (w_data['timestamp'] <= row['dropoff_datetime']))]['snow']),axis=1)\n",
    "trip_dataset['snow'] = trip_dataset['snow'].apply(lambda x: 1 if x else 0)"
   ]
  },
  {
   "cell_type": "code",
   "execution_count": 91,
   "metadata": {
    "collapsed": true
   },
   "outputs": [],
   "source": [
    "trip_dataset['pickup_datetime_int'] = np.log(trip_dataset['pickup_datetime_int'])\n",
    "trip_dataset['dropoff_datetime_int'] = np.log(trip_dataset['dropoff_datetime_int'])"
   ]
  },
  {
   "cell_type": "code",
   "execution_count": 92,
   "metadata": {
    "collapsed": true
   },
   "outputs": [],
   "source": [
    "trip_dataset['dropoff_latitude'] = np.log(abs(trip_dataset['dropoff_latitude']))\n",
    "trip_dataset['pickup_longitude'] = np.log(abs(trip_dataset['pickup_longitude']))\n",
    "trip_dataset['pickup_latitude'] = np.log(abs(trip_dataset['pickup_latitude']))\n",
    "trip_dataset['dropoff_longitude'] = np.log(abs(trip_dataset['dropoff_longitude']))"
   ]
  },
  {
   "cell_type": "code",
   "execution_count": 2,
   "metadata": {
    "collapsed": true
   },
   "outputs": [],
   "source": [
    "trip_dataset = pd.read_csv('Datasets/trip_dataset.csv')"
   ]
  },
  {
   "cell_type": "code",
   "execution_count": 3,
   "metadata": {
    "collapsed": true
   },
   "outputs": [],
   "source": [
    "week_days = ['SUN','MON','TUE','WED','THU','FRY','SAT']\n",
    "for weekday in week_days:\n",
    "    trip_dataset[weekday] = 0"
   ]
  },
  {
   "cell_type": "code",
   "execution_count": 18,
   "metadata": {
    "collapsed": true
   },
   "outputs": [],
   "source": [
    "for weekday in week_days:\n",
    "    #trip_dataset[weekday] = trip_dataset['pickup_datetime'].apply(lambda x: 1 if x.dt.dayofweek == week_days.index(weekday) else 0)\n",
    "    trip_dataset[weekday] = trip_dataset['pickup_datetime'].apply(lambda x: 1 if (datetime.datetime.weekday(datetime.datetime.strptime(x,\"%Y-%m-%d %H:%M:%S\")) + 1)== week_days.index(weekday) else 0)\n"
   ]
  },
  {
   "cell_type": "code",
   "execution_count": 20,
   "metadata": {},
   "outputs": [
    {
     "data": {
      "text/html": [
       "<div>\n",
       "<style>\n",
       "    .dataframe thead tr:only-child th {\n",
       "        text-align: right;\n",
       "    }\n",
       "\n",
       "    .dataframe thead th {\n",
       "        text-align: left;\n",
       "    }\n",
       "\n",
       "    .dataframe tbody tr th {\n",
       "        vertical-align: top;\n",
       "    }\n",
       "</style>\n",
       "<table border=\"1\" class=\"dataframe\">\n",
       "  <thead>\n",
       "    <tr style=\"text-align: right;\">\n",
       "      <th></th>\n",
       "      <th>Unnamed: 0</th>\n",
       "      <th>id</th>\n",
       "      <th>vendor_id</th>\n",
       "      <th>pickup_datetime</th>\n",
       "      <th>dropoff_datetime</th>\n",
       "      <th>passenger_count</th>\n",
       "      <th>pickup_longitude</th>\n",
       "      <th>pickup_latitude</th>\n",
       "      <th>dropoff_longitude</th>\n",
       "      <th>dropoff_latitude</th>\n",
       "      <th>...</th>\n",
       "      <th>temp</th>\n",
       "      <th>windspeed</th>\n",
       "      <th>snow</th>\n",
       "      <th>SUN</th>\n",
       "      <th>MON</th>\n",
       "      <th>TUE</th>\n",
       "      <th>WED</th>\n",
       "      <th>THU</th>\n",
       "      <th>FRY</th>\n",
       "      <th>SAT</th>\n",
       "    </tr>\n",
       "  </thead>\n",
       "  <tbody>\n",
       "    <tr>\n",
       "      <th>36456</th>\n",
       "      <td>331451</td>\n",
       "      <td>id2105714</td>\n",
       "      <td>2</td>\n",
       "      <td>2016-06-30 22:48:02</td>\n",
       "      <td>2016-06-30 23:15:25</td>\n",
       "      <td>5</td>\n",
       "      <td>4.304100</td>\n",
       "      <td>3.707055</td>\n",
       "      <td>4.302982</td>\n",
       "      <td>3.710346</td>\n",
       "      <td>...</td>\n",
       "      <td>4.329417</td>\n",
       "      <td>4.6</td>\n",
       "      <td>0</td>\n",
       "      <td>0</td>\n",
       "      <td>0</td>\n",
       "      <td>0</td>\n",
       "      <td>0</td>\n",
       "      <td>1</td>\n",
       "      <td>0</td>\n",
       "      <td>0</td>\n",
       "    </tr>\n",
       "    <tr>\n",
       "      <th>36457</th>\n",
       "      <td>740480</td>\n",
       "      <td>id2220154</td>\n",
       "      <td>2</td>\n",
       "      <td>2016-06-30 22:56:08</td>\n",
       "      <td>2016-06-30 22:56:11</td>\n",
       "      <td>1</td>\n",
       "      <td>4.303647</td>\n",
       "      <td>3.703380</td>\n",
       "      <td>4.303647</td>\n",
       "      <td>3.703380</td>\n",
       "      <td>...</td>\n",
       "      <td>NaN</td>\n",
       "      <td>NaN</td>\n",
       "      <td>1</td>\n",
       "      <td>0</td>\n",
       "      <td>0</td>\n",
       "      <td>0</td>\n",
       "      <td>0</td>\n",
       "      <td>1</td>\n",
       "      <td>0</td>\n",
       "      <td>0</td>\n",
       "    </tr>\n",
       "    <tr>\n",
       "      <th>36458</th>\n",
       "      <td>181433</td>\n",
       "      <td>id1218160</td>\n",
       "      <td>2</td>\n",
       "      <td>2016-06-30 23:26:35</td>\n",
       "      <td>2016-06-30 23:39:12</td>\n",
       "      <td>2</td>\n",
       "      <td>4.303779</td>\n",
       "      <td>3.708318</td>\n",
       "      <td>4.303181</td>\n",
       "      <td>3.709835</td>\n",
       "      <td>...</td>\n",
       "      <td>NaN</td>\n",
       "      <td>NaN</td>\n",
       "      <td>1</td>\n",
       "      <td>0</td>\n",
       "      <td>0</td>\n",
       "      <td>0</td>\n",
       "      <td>0</td>\n",
       "      <td>1</td>\n",
       "      <td>0</td>\n",
       "      <td>0</td>\n",
       "    </tr>\n",
       "    <tr>\n",
       "      <th>36459</th>\n",
       "      <td>1383358</td>\n",
       "      <td>id1352632</td>\n",
       "      <td>1</td>\n",
       "      <td>2016-06-30 23:32:18</td>\n",
       "      <td>2016-06-30 23:57:04</td>\n",
       "      <td>1</td>\n",
       "      <td>4.301136</td>\n",
       "      <td>3.704966</td>\n",
       "      <td>4.303358</td>\n",
       "      <td>3.707509</td>\n",
       "      <td>...</td>\n",
       "      <td>4.329417</td>\n",
       "      <td>3.5</td>\n",
       "      <td>0</td>\n",
       "      <td>0</td>\n",
       "      <td>0</td>\n",
       "      <td>0</td>\n",
       "      <td>0</td>\n",
       "      <td>1</td>\n",
       "      <td>0</td>\n",
       "      <td>0</td>\n",
       "    </tr>\n",
       "    <tr>\n",
       "      <th>36460</th>\n",
       "      <td>857021</td>\n",
       "      <td>id2610717</td>\n",
       "      <td>2</td>\n",
       "      <td>2016-06-30 23:38:45</td>\n",
       "      <td>2016-07-01 00:06:56</td>\n",
       "      <td>1</td>\n",
       "      <td>4.301215</td>\n",
       "      <td>3.704928</td>\n",
       "      <td>4.303090</td>\n",
       "      <td>3.707861</td>\n",
       "      <td>...</td>\n",
       "      <td>4.329417</td>\n",
       "      <td>3.5</td>\n",
       "      <td>0</td>\n",
       "      <td>0</td>\n",
       "      <td>0</td>\n",
       "      <td>0</td>\n",
       "      <td>0</td>\n",
       "      <td>1</td>\n",
       "      <td>0</td>\n",
       "      <td>0</td>\n",
       "    </tr>\n",
       "  </tbody>\n",
       "</table>\n",
       "<p>5 rows × 28 columns</p>\n",
       "</div>"
      ],
      "text/plain": [
       "       Unnamed: 0         id  vendor_id      pickup_datetime  \\\n",
       "36456      331451  id2105714          2  2016-06-30 22:48:02   \n",
       "36457      740480  id2220154          2  2016-06-30 22:56:08   \n",
       "36458      181433  id1218160          2  2016-06-30 23:26:35   \n",
       "36459     1383358  id1352632          1  2016-06-30 23:32:18   \n",
       "36460      857021  id2610717          2  2016-06-30 23:38:45   \n",
       "\n",
       "          dropoff_datetime  passenger_count  pickup_longitude  \\\n",
       "36456  2016-06-30 23:15:25                5          4.304100   \n",
       "36457  2016-06-30 22:56:11                1          4.303647   \n",
       "36458  2016-06-30 23:39:12                2          4.303779   \n",
       "36459  2016-06-30 23:57:04                1          4.301136   \n",
       "36460  2016-07-01 00:06:56                1          4.301215   \n",
       "\n",
       "       pickup_latitude  dropoff_longitude  dropoff_latitude ...       temp  \\\n",
       "36456         3.707055           4.302982          3.710346 ...   4.329417   \n",
       "36457         3.703380           4.303647          3.703380 ...        NaN   \n",
       "36458         3.708318           4.303181          3.709835 ...        NaN   \n",
       "36459         3.704966           4.303358          3.707509 ...   4.329417   \n",
       "36460         3.704928           4.303090          3.707861 ...   4.329417   \n",
       "\n",
       "       windspeed snow  SUN  MON  TUE  WED  THU  FRY  SAT  \n",
       "36456        4.6    0    0    0    0    0    1    0    0  \n",
       "36457        NaN    1    0    0    0    0    1    0    0  \n",
       "36458        NaN    1    0    0    0    0    1    0    0  \n",
       "36459        3.5    0    0    0    0    0    1    0    0  \n",
       "36460        3.5    0    0    0    0    0    1    0    0  \n",
       "\n",
       "[5 rows x 28 columns]"
      ]
     },
     "execution_count": 20,
     "metadata": {},
     "output_type": "execute_result"
    }
   ],
   "source": [
    "trip_dataset.tail()"
   ]
  },
  {
   "cell_type": "code",
   "execution_count": 21,
   "metadata": {
    "collapsed": true
   },
   "outputs": [],
   "source": [
    "trip_dataset.to_csv('Datasets/trip_dataset.csv')"
   ]
  },
  {
   "cell_type": "code",
   "execution_count": null,
   "metadata": {
    "collapsed": true
   },
   "outputs": [],
   "source": []
  }
 ],
 "metadata": {
  "kernelspec": {
   "display_name": "Python 3",
   "language": "python",
   "name": "python3"
  },
  "language_info": {
   "codemirror_mode": {
    "name": "ipython",
    "version": 3
   },
   "file_extension": ".py",
   "mimetype": "text/x-python",
   "name": "python",
   "nbconvert_exporter": "python",
   "pygments_lexer": "ipython3",
   "version": "3.7.3"
  }
 },
 "nbformat": 4,
 "nbformat_minor": 2
}
